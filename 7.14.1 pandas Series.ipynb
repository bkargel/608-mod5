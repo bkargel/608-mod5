{
 "cells": [
  {
   "cell_type": "markdown",
   "id": "de966696-8893-41dd-b98d-40ef4a9f0345",
   "metadata": {},
   "source": [
    "7.2 Creating arrays from Existing Data"
   ]
  },
  {
   "cell_type": "code",
   "execution_count": 1,
   "id": "ca0541d5-98cc-4e3b-8a9a-d5786148967e",
   "metadata": {},
   "outputs": [
    {
     "data": {
      "text/plain": [
       "numpy.ndarray"
      ]
     },
     "execution_count": 1,
     "metadata": {},
     "output_type": "execute_result"
    }
   ],
   "source": [
    "import numpy as np\n",
    "numbers = np.array([2, 3, 5, 7, 11])\n",
    "type(numbers)\n"
   ]
  },
  {
   "cell_type": "code",
   "execution_count": 2,
   "id": "1748a8a8-71be-4d41-9430-e960415248a9",
   "metadata": {},
   "outputs": [
    {
     "data": {
      "text/plain": [
       "array([ 2,  3,  5,  7, 11])"
      ]
     },
     "execution_count": 2,
     "metadata": {},
     "output_type": "execute_result"
    }
   ],
   "source": [
    "numbers"
   ]
  },
  {
   "cell_type": "code",
   "execution_count": 3,
   "id": "5876500f-b838-4d86-b296-1f196efb74b7",
   "metadata": {},
   "outputs": [
    {
     "data": {
      "text/plain": [
       "array([[1, 2, 3],\n",
       "       [4, 5, 6]])"
      ]
     },
     "execution_count": 3,
     "metadata": {},
     "output_type": "execute_result"
    }
   ],
   "source": [
    "np.array([[1, 2, 3], [4, 5, 6]])"
   ]
  },
  {
   "cell_type": "markdown",
   "id": "2d86672c-5d69-42f1-82ea-00f6c1c55609",
   "metadata": {},
   "source": [
    "7.2 Self Check"
   ]
  },
  {
   "cell_type": "code",
   "execution_count": 4,
   "id": "d3eaba2c-5ef1-46a0-b803-0b580314cb1a",
   "metadata": {},
   "outputs": [
    {
     "data": {
      "text/plain": [
       "array([ 2,  4,  6,  8, 10, 12, 14, 16, 18, 20])"
      ]
     },
     "execution_count": 4,
     "metadata": {},
     "output_type": "execute_result"
    }
   ],
   "source": [
    "# 2) Create a one-dimensional array from a list comprehension that produces the even integers from 2 through 20.\n",
    "\n",
    "np.array([x for x in range(2, 21, 2)])"
   ]
  },
  {
   "cell_type": "code",
   "execution_count": 5,
   "id": "b6835c93-24f5-4440-a508-1f792173da38",
   "metadata": {},
   "outputs": [
    {
     "data": {
      "text/plain": [
       "array([[ 2,  4,  6,  8, 10],\n",
       "       [ 1,  3,  5,  7,  9]])"
      ]
     },
     "execution_count": 5,
     "metadata": {},
     "output_type": "execute_result"
    }
   ],
   "source": [
    "# 3) Create a 2-by-5 array containing the even integers from 2 through 10 in the first row and the odd integers\n",
    "# from 1 through 9 in the second row.\n",
    "\n",
    "np.array([[2, 4, 6, 8, 10], [1, 3, 5, 7, 9]])"
   ]
  },
  {
   "cell_type": "markdown",
   "id": "e86cc102-ae01-4e89-a15a-a1cbb8b83b3c",
   "metadata": {},
   "source": [
    "7.3 array Attributes"
   ]
  },
  {
   "cell_type": "code",
   "execution_count": 6,
   "id": "087d0e6d-b4c5-4705-a531-75f5bedfa5c2",
   "metadata": {},
   "outputs": [
    {
     "data": {
      "text/plain": [
       "array([[1, 2, 3],\n",
       "       [4, 5, 6]])"
      ]
     },
     "execution_count": 6,
     "metadata": {},
     "output_type": "execute_result"
    }
   ],
   "source": [
    "integers = np.array([[1, 2, 3], [4, 5, 6]])\n",
    "\n",
    "integers"
   ]
  },
  {
   "cell_type": "code",
   "execution_count": 7,
   "id": "9978d041-2151-4483-a5f3-d473d9e2219a",
   "metadata": {},
   "outputs": [
    {
     "data": {
      "text/plain": [
       "array([0. , 0.1, 0.2, 0.3, 0.4])"
      ]
     },
     "execution_count": 7,
     "metadata": {},
     "output_type": "execute_result"
    }
   ],
   "source": [
    "floats = np.array([0.0, 0.1, 0.2, 0.3, 0.4])\n",
    "\n",
    "floats"
   ]
  },
  {
   "cell_type": "code",
   "execution_count": 8,
   "id": "b2eb02d9-fdb5-49d0-ba04-d0e52d5433fb",
   "metadata": {},
   "outputs": [
    {
     "data": {
      "text/plain": [
       "dtype('int32')"
      ]
     },
     "execution_count": 8,
     "metadata": {},
     "output_type": "execute_result"
    }
   ],
   "source": [
    "# The array function determines an array's element type from its argument's elements\n",
    "\n",
    "integers.dtype"
   ]
  },
  {
   "cell_type": "code",
   "execution_count": 9,
   "id": "81616580-a8f6-49fb-b58b-e15fdc85010a",
   "metadata": {},
   "outputs": [
    {
     "data": {
      "text/plain": [
       "dtype('float64')"
      ]
     },
     "execution_count": 9,
     "metadata": {},
     "output_type": "execute_result"
    }
   ],
   "source": [
    "floats.dtype"
   ]
  },
  {
   "cell_type": "code",
   "execution_count": 10,
   "id": "f1404af4-8fcc-4262-8a5f-c49bb8ca6a65",
   "metadata": {},
   "outputs": [
    {
     "data": {
      "text/plain": [
       "2"
      ]
     },
     "execution_count": 10,
     "metadata": {},
     "output_type": "execute_result"
    }
   ],
   "source": [
    "# Determining an arrays dimensions\n",
    "\n",
    "integers.ndim"
   ]
  },
  {
   "cell_type": "code",
   "execution_count": 11,
   "id": "b0e7d332-8d06-4080-9e64-03801d2a0085",
   "metadata": {},
   "outputs": [
    {
     "data": {
      "text/plain": [
       "1"
      ]
     },
     "execution_count": 11,
     "metadata": {},
     "output_type": "execute_result"
    }
   ],
   "source": [
    "floats.ndim"
   ]
  },
  {
   "cell_type": "code",
   "execution_count": 12,
   "id": "3026bee7-706c-467f-a323-d5fd59eceab3",
   "metadata": {},
   "outputs": [
    {
     "data": {
      "text/plain": [
       "(2, 3)"
      ]
     },
     "execution_count": 12,
     "metadata": {},
     "output_type": "execute_result"
    }
   ],
   "source": [
    "integers.shape"
   ]
  },
  {
   "cell_type": "code",
   "execution_count": 13,
   "id": "0a158705-bf9c-4232-a556-c59c33a07018",
   "metadata": {},
   "outputs": [
    {
     "data": {
      "text/plain": [
       "(5,)"
      ]
     },
     "execution_count": 13,
     "metadata": {},
     "output_type": "execute_result"
    }
   ],
   "source": [
    "floats.shape"
   ]
  },
  {
   "cell_type": "code",
   "execution_count": 14,
   "id": "44c33e49-5020-4799-ac0c-357b5d113246",
   "metadata": {},
   "outputs": [
    {
     "data": {
      "text/plain": [
       "6"
      ]
     },
     "execution_count": 14,
     "metadata": {},
     "output_type": "execute_result"
    }
   ],
   "source": [
    "# Determining an array's Number of elements (using size) and number of bytes required to store each element (itemsize)\n",
    "\n",
    "integers.size"
   ]
  },
  {
   "cell_type": "code",
   "execution_count": 15,
   "id": "5498166b-edf0-42c6-a10f-a9fdf56ece48",
   "metadata": {},
   "outputs": [
    {
     "data": {
      "text/plain": [
       "4"
      ]
     },
     "execution_count": 15,
     "metadata": {},
     "output_type": "execute_result"
    }
   ],
   "source": [
    "integers.itemsize"
   ]
  },
  {
   "cell_type": "code",
   "execution_count": 16,
   "id": "8c90723f-0217-4adc-9d44-d48ac2afd345",
   "metadata": {},
   "outputs": [
    {
     "data": {
      "text/plain": [
       "5"
      ]
     },
     "execution_count": 16,
     "metadata": {},
     "output_type": "execute_result"
    }
   ],
   "source": [
    "floats.size"
   ]
  },
  {
   "cell_type": "code",
   "execution_count": 17,
   "id": "dd55f965-1a54-4d94-b8fe-985374e1a7ed",
   "metadata": {},
   "outputs": [
    {
     "data": {
      "text/plain": [
       "8"
      ]
     },
     "execution_count": 17,
     "metadata": {},
     "output_type": "execute_result"
    }
   ],
   "source": [
    "floats.itemsize"
   ]
  },
  {
   "cell_type": "code",
   "execution_count": 18,
   "id": "22cd711e-839c-4cc7-a2d9-4feaff7ee141",
   "metadata": {},
   "outputs": [
    {
     "name": "stdout",
     "output_type": "stream",
     "text": [
      "1 2 3 \n",
      "4 5 6 \n"
     ]
    }
   ],
   "source": [
    "# Iterating through a multidimensional array's elements\n",
    "\n",
    "for row in integers:\n",
    "    for column in row:\n",
    "        print(column, end=' ')\n",
    "    print()"
   ]
  },
  {
   "cell_type": "code",
   "execution_count": 19,
   "id": "192dcb9e-80f0-4563-a670-ead086f0dac8",
   "metadata": {},
   "outputs": [
    {
     "name": "stdout",
     "output_type": "stream",
     "text": [
      "1 2 3 4 5 6 "
     ]
    }
   ],
   "source": [
    "for i in integers.flat:\n",
    "    print(i, end=' ')"
   ]
  },
  {
   "cell_type": "markdown",
   "id": "3c292e3d-e474-48be-9e38-b68abf6d350e",
   "metadata": {},
   "source": [
    "7.3 Self Check"
   ]
  },
  {
   "cell_type": "code",
   "execution_count": 20,
   "id": "9af68363-5bd4-4fc9-8e4b-01841b945677",
   "metadata": {},
   "outputs": [
    {
     "data": {
      "text/plain": [
       "2"
      ]
     },
     "execution_count": 20,
     "metadata": {},
     "output_type": "execute_result"
    }
   ],
   "source": [
    "# 2) For the two-dimensional array in the previous section's Self Check, display the number of dimensions and shape of \n",
    "# the array.\n",
    "\n",
    "a = np.array([[2, 4, 6, 8, 10], [1, 3, 5, 7, 9]])\n",
    "\n",
    "a.ndim"
   ]
  },
  {
   "cell_type": "code",
   "execution_count": 21,
   "id": "cbc597be-fe15-47a4-812d-11318a30c6eb",
   "metadata": {},
   "outputs": [
    {
     "data": {
      "text/plain": [
       "(2, 5)"
      ]
     },
     "execution_count": 21,
     "metadata": {},
     "output_type": "execute_result"
    }
   ],
   "source": [
    "a.shape"
   ]
  },
  {
   "cell_type": "markdown",
   "id": "d90c5ee3-8e0d-4a6b-9b34-94ff768264fc",
   "metadata": {},
   "source": [
    "7.4 Filling arrays with Specific Values"
   ]
  },
  {
   "cell_type": "code",
   "execution_count": 22,
   "id": "a51045d1-85a3-4ba2-8bb6-32261b85c1e5",
   "metadata": {},
   "outputs": [
    {
     "data": {
      "text/plain": [
       "array([0., 0., 0., 0., 0.])"
      ]
     },
     "execution_count": 22,
     "metadata": {},
     "output_type": "execute_result"
    }
   ],
   "source": [
    "# For an integer, each function returns a one-dimensional array with the specified number of elements:\n",
    "\n",
    "np.zeros(5)"
   ]
  },
  {
   "cell_type": "code",
   "execution_count": 23,
   "id": "00f4b83a-a227-4ca5-9a92-c077bcfde672",
   "metadata": {},
   "outputs": [
    {
     "data": {
      "text/plain": [
       "array([[1, 1, 1, 1],\n",
       "       [1, 1, 1, 1]])"
      ]
     },
     "execution_count": 23,
     "metadata": {},
     "output_type": "execute_result"
    }
   ],
   "source": [
    "# You can specify the array's element type with the zeros and ones function's dtype keyword argument:\n",
    "\n",
    "np.ones((2, 4), dtype=int)"
   ]
  },
  {
   "cell_type": "markdown",
   "id": "b9441b05-6271-45eb-8cfb-b941480e99d0",
   "metadata": {},
   "source": [
    "7.5 Creating arrays from Ranges"
   ]
  },
  {
   "cell_type": "code",
   "execution_count": 24,
   "id": "0f46177b-b02f-4683-83c8-64320813040c",
   "metadata": {},
   "outputs": [
    {
     "data": {
      "text/plain": [
       "array([0, 1, 2, 3, 4])"
      ]
     },
     "execution_count": 24,
     "metadata": {},
     "output_type": "execute_result"
    }
   ],
   "source": [
    "# Arange function \n",
    "\n",
    "np.arange(5)"
   ]
  },
  {
   "cell_type": "code",
   "execution_count": 25,
   "id": "e24f2586-8972-4664-aa1d-bc16a8ea4cda",
   "metadata": {},
   "outputs": [
    {
     "data": {
      "text/plain": [
       "array([5, 6, 7, 8, 9])"
      ]
     },
     "execution_count": 25,
     "metadata": {},
     "output_type": "execute_result"
    }
   ],
   "source": [
    "np.arange(5, 10)"
   ]
  },
  {
   "cell_type": "code",
   "execution_count": 26,
   "id": "6a09a10b-d1b7-443b-828a-dcf0bd14e4d0",
   "metadata": {},
   "outputs": [
    {
     "data": {
      "text/plain": [
       "array([10,  8,  6,  4,  2])"
      ]
     },
     "execution_count": 26,
     "metadata": {},
     "output_type": "execute_result"
    }
   ],
   "source": [
    "np.arange(10, 1, -2)"
   ]
  },
  {
   "cell_type": "code",
   "execution_count": 27,
   "id": "d02653a9-0e8e-4b87-b437-135c159fad73",
   "metadata": {},
   "outputs": [
    {
     "data": {
      "text/plain": [
       "array([0.  , 0.25, 0.5 , 0.75, 1.  ])"
      ]
     },
     "execution_count": 27,
     "metadata": {},
     "output_type": "execute_result"
    }
   ],
   "source": [
    "# Floating point ranges with linspace\n",
    "\n",
    "np.linspace(0.0, 1.0, num=5)"
   ]
  },
  {
   "cell_type": "code",
   "execution_count": 28,
   "id": "5dfe1624-5dc4-4345-bdfb-31336e642f22",
   "metadata": {},
   "outputs": [
    {
     "data": {
      "text/plain": [
       "array([[ 1,  2,  3,  4,  5],\n",
       "       [ 6,  7,  8,  9, 10],\n",
       "       [11, 12, 13, 14, 15],\n",
       "       [16, 17, 18, 19, 20]])"
      ]
     },
     "execution_count": 28,
     "metadata": {},
     "output_type": "execute_result"
    }
   ],
   "source": [
    "#Reshaping an array\n",
    "\n",
    "np.arange(1, 21).reshape(4, 5)"
   ]
  },
  {
   "cell_type": "code",
   "execution_count": 29,
   "id": "10e785be-a105-48ec-95b6-9d4296f00328",
   "metadata": {},
   "outputs": [
    {
     "data": {
      "text/plain": [
       "array([[     1,      2,      3, ...,  24998,  24999,  25000],\n",
       "       [ 25001,  25002,  25003, ...,  49998,  49999,  50000],\n",
       "       [ 50001,  50002,  50003, ...,  74998,  74999,  75000],\n",
       "       [ 75001,  75002,  75003, ...,  99998,  99999, 100000]])"
      ]
     },
     "execution_count": 29,
     "metadata": {},
     "output_type": "execute_result"
    }
   ],
   "source": [
    "# Displaying large arrays, NumPy drops the middle rows, columns, or both from the output:\n",
    "\n",
    "np.arange(1, 100001).reshape(4, 25000)"
   ]
  },
  {
   "cell_type": "code",
   "execution_count": 30,
   "id": "17248884-aea0-4b79-b636-208721243094",
   "metadata": {},
   "outputs": [
    {
     "data": {
      "text/plain": [
       "array([[     1,      2,      3, ...,    998,    999,   1000],\n",
       "       [  1001,   1002,   1003, ...,   1998,   1999,   2000],\n",
       "       [  2001,   2002,   2003, ...,   2998,   2999,   3000],\n",
       "       ...,\n",
       "       [ 97001,  97002,  97003, ...,  97998,  97999,  98000],\n",
       "       [ 98001,  98002,  98003, ...,  98998,  98999,  99000],\n",
       "       [ 99001,  99002,  99003, ...,  99998,  99999, 100000]])"
      ]
     },
     "execution_count": 30,
     "metadata": {},
     "output_type": "execute_result"
    }
   ],
   "source": [
    "np.arange(1, 100001).reshape(100, 1000)"
   ]
  },
  {
   "cell_type": "markdown",
   "id": "4e858d67-adc7-41e3-9e5b-934d8678e5d7",
   "metadata": {},
   "source": [
    "7.5 Self Check"
   ]
  },
  {
   "cell_type": "code",
   "execution_count": 31,
   "id": "54bb8e2f-a084-4802-ae94-437bf1f713cf",
   "metadata": {},
   "outputs": [
    {
     "data": {
      "text/plain": [
       "array([[ 2,  4,  6,  8, 10],\n",
       "       [12, 14, 16, 18, 20],\n",
       "       [22, 24, 26, 28, 30],\n",
       "       [32, 34, 36, 38, 40]])"
      ]
     },
     "execution_count": 31,
     "metadata": {},
     "output_type": "execute_result"
    }
   ],
   "source": [
    "# 2) Use NumPy function arange to create an array of 20 even integers from 2 through 40, then reshape the result into\n",
    "# a 4-by-5 array.\n",
    "\n",
    "np.arange(2, 41, 2).reshape(4, 5)"
   ]
  },
  {
   "cell_type": "markdown",
   "id": "d06a275d-94c5-4262-a15a-d47dad3b5a7d",
   "metadata": {},
   "source": [
    "7.6 List vs. array Performance: Introducing %timeit"
   ]
  },
  {
   "cell_type": "code",
   "execution_count": 32,
   "id": "ad82a60c-3f17-4a7d-b908-42f12937ea52",
   "metadata": {},
   "outputs": [
    {
     "name": "stdout",
     "output_type": "stream",
     "text": [
      "60.8 ms ± 244 µs per loop (mean ± std. dev. of 7 runs, 10 loops each)\n"
     ]
    }
   ],
   "source": [
    "# Timing the creation of an array containing results of 6,000,000 Die Rolls\n",
    "\n",
    "%timeit rolls_array = np.random.randint(1, 7, 6_000_000)"
   ]
  },
  {
   "cell_type": "code",
   "execution_count": 33,
   "id": "d5a21034-6ee1-4111-bc30-027b8585d177",
   "metadata": {},
   "outputs": [
    {
     "name": "stdout",
     "output_type": "stream",
     "text": [
      "594 ms ± 6.93 ms per loop (mean ± std. dev. of 7 runs, 1 loop each)\n"
     ]
    }
   ],
   "source": [
    "#60,000,000 and 600,000,000 Die Rolls\n",
    "\n",
    "%timeit rolls_array = np.random.randint(1, 7, 60_000_000)"
   ]
  },
  {
   "cell_type": "code",
   "execution_count": 34,
   "id": "71ebc469-5f19-4261-98b8-1f3558cc503e",
   "metadata": {},
   "outputs": [
    {
     "name": "stdout",
     "output_type": "stream",
     "text": [
      "6.04 s ± 55.7 ms per loop (mean ± std. dev. of 7 runs, 1 loop each)\n"
     ]
    }
   ],
   "source": [
    "%timeit rolls_array = np.random.randint(1, 7, 600_000_000)"
   ]
  },
  {
   "cell_type": "markdown",
   "id": "fe75fcf0-4063-4ebb-b87f-d21308c438e2",
   "metadata": {},
   "source": [
    "7.6 Self Check"
   ]
  },
  {
   "cell_type": "code",
   "execution_count": 35,
   "id": "d21acbdd-0108-46fc-9843-31847f021b83",
   "metadata": {},
   "outputs": [
    {
     "name": "stdout",
     "output_type": "stream",
     "text": [
      "886 ms ± 3.27 ms per loop (mean ± std. dev. of 7 runs, 1 loop each)\n"
     ]
    }
   ],
   "source": [
    "# 1) Use %timeit to compare the execution time of the following two statements. The first uses a list comprehension to create\n",
    "# a list of the integers from 0 to 9,999,999, then totals them with the built-in sum function. The second statement does the\n",
    "# same thing using an array and its sum method.\n",
    "\n",
    "# sum([x for x in range(10_000_000)])\n",
    "# np.arange(10_000_000).sum.()\n",
    "\n",
    "%timeit sum([x for x in range(10_000_000)])"
   ]
  },
  {
   "cell_type": "code",
   "execution_count": 36,
   "id": "36695962-9085-4823-9c9a-359514c44a32",
   "metadata": {},
   "outputs": [
    {
     "name": "stdout",
     "output_type": "stream",
     "text": [
      "16.2 ms ± 372 µs per loop (mean ± std. dev. of 7 runs, 100 loops each)\n"
     ]
    }
   ],
   "source": [
    "%timeit np.arange(10_000_000).sum()"
   ]
  },
  {
   "cell_type": "markdown",
   "id": "f0acee10-f55f-4c50-9733-7965d3eb1d66",
   "metadata": {},
   "source": [
    "7.7 array Operators"
   ]
  },
  {
   "cell_type": "code",
   "execution_count": 37,
   "id": "b696d455-7352-482a-91c7-59fd87fa0b16",
   "metadata": {},
   "outputs": [
    {
     "data": {
      "text/plain": [
       "array([1, 2, 3, 4, 5])"
      ]
     },
     "execution_count": 37,
     "metadata": {},
     "output_type": "execute_result"
    }
   ],
   "source": [
    "# Element-wise operations are applied to every element, each returns a new array containing the result.\n",
    "\n",
    "import numpy as np\n",
    "\n",
    "numbers = np.arange(1, 6)\n",
    "numbers"
   ]
  },
  {
   "cell_type": "code",
   "execution_count": 38,
   "id": "7808604a-9974-4dd4-9b97-b8a885952ac8",
   "metadata": {},
   "outputs": [
    {
     "data": {
      "text/plain": [
       "array([ 2,  4,  6,  8, 10])"
      ]
     },
     "execution_count": 38,
     "metadata": {},
     "output_type": "execute_result"
    }
   ],
   "source": [
    "numbers * 2"
   ]
  },
  {
   "cell_type": "code",
   "execution_count": 39,
   "id": "099e6e88-b847-44e2-9d03-097a58e10a85",
   "metadata": {},
   "outputs": [
    {
     "data": {
      "text/plain": [
       "array([  1,   8,  27,  64, 125], dtype=int32)"
      ]
     },
     "execution_count": 39,
     "metadata": {},
     "output_type": "execute_result"
    }
   ],
   "source": [
    "numbers ** 3"
   ]
  },
  {
   "cell_type": "code",
   "execution_count": 40,
   "id": "3fbb4fa9-579b-4ee8-929e-d468dacc6cbb",
   "metadata": {},
   "outputs": [
    {
     "data": {
      "text/plain": [
       "array([1, 2, 3, 4, 5])"
      ]
     },
     "execution_count": 40,
     "metadata": {},
     "output_type": "execute_result"
    }
   ],
   "source": [
    "numbers #unchanged by arithmetic operators"
   ]
  },
  {
   "cell_type": "code",
   "execution_count": 41,
   "id": "13fb16c4-f764-4906-afe1-7c8e2383e511",
   "metadata": {},
   "outputs": [
    {
     "data": {
      "text/plain": [
       "array([11, 12, 13, 14, 15])"
      ]
     },
     "execution_count": 41,
     "metadata": {},
     "output_type": "execute_result"
    }
   ],
   "source": [
    "# Augmented assignments modify every element in the left operand\n",
    "\n",
    "numbers += 10\n",
    "\n",
    "numbers"
   ]
  },
  {
   "cell_type": "code",
   "execution_count": 42,
   "id": "8b81e58d-3ded-4449-b732-6a2de8276d0b",
   "metadata": {},
   "outputs": [
    {
     "data": {
      "text/plain": [
       "array([1.1, 2.2, 3.3, 4.4, 5.5])"
      ]
     },
     "execution_count": 42,
     "metadata": {},
     "output_type": "execute_result"
    }
   ],
   "source": [
    "# Arithmetic between arrays\n",
    "\n",
    "numbers2 = np.linspace(1.1, 5.5, 5)\n",
    "\n",
    "numbers2"
   ]
  },
  {
   "cell_type": "code",
   "execution_count": 43,
   "id": "72cd8af1-ff20-443d-a18a-7525635ffddd",
   "metadata": {},
   "outputs": [
    {
     "data": {
      "text/plain": [
       "array([12.1, 26.4, 42.9, 61.6, 82.5])"
      ]
     },
     "execution_count": 43,
     "metadata": {},
     "output_type": "execute_result"
    }
   ],
   "source": [
    "numbers * numbers2"
   ]
  },
  {
   "cell_type": "code",
   "execution_count": 44,
   "id": "19759f3a-2272-4a29-8f96-98f7f498ad2d",
   "metadata": {},
   "outputs": [
    {
     "data": {
      "text/plain": [
       "array([11, 12, 13, 14, 15])"
      ]
     },
     "execution_count": 44,
     "metadata": {},
     "output_type": "execute_result"
    }
   ],
   "source": [
    "# Comparing Rays\n",
    "\n",
    "numbers"
   ]
  },
  {
   "cell_type": "code",
   "execution_count": 45,
   "id": "ae33618f-4074-4202-9115-9427a4fb68ca",
   "metadata": {},
   "outputs": [
    {
     "data": {
      "text/plain": [
       "array([False, False,  True,  True,  True])"
      ]
     },
     "execution_count": 45,
     "metadata": {},
     "output_type": "execute_result"
    }
   ],
   "source": [
    "numbers >= 13"
   ]
  },
  {
   "cell_type": "code",
   "execution_count": 46,
   "id": "5bdfb724-33af-41d3-a84f-2ba24fcb7317",
   "metadata": {},
   "outputs": [
    {
     "data": {
      "text/plain": [
       "array([1.1, 2.2, 3.3, 4.4, 5.5])"
      ]
     },
     "execution_count": 46,
     "metadata": {},
     "output_type": "execute_result"
    }
   ],
   "source": [
    "numbers2"
   ]
  },
  {
   "cell_type": "code",
   "execution_count": 47,
   "id": "c42bbbca-6f42-4bac-8065-8e07563633a6",
   "metadata": {},
   "outputs": [
    {
     "data": {
      "text/plain": [
       "array([ True,  True,  True,  True,  True])"
      ]
     },
     "execution_count": 47,
     "metadata": {},
     "output_type": "execute_result"
    }
   ],
   "source": [
    "numbers2 < numbers"
   ]
  },
  {
   "cell_type": "code",
   "execution_count": 48,
   "id": "858f69fe-1fc1-4567-b4de-2fcfcbce3005",
   "metadata": {},
   "outputs": [
    {
     "data": {
      "text/plain": [
       "array([False, False, False, False, False])"
      ]
     },
     "execution_count": 48,
     "metadata": {},
     "output_type": "execute_result"
    }
   ],
   "source": [
    "numbers == numbers2"
   ]
  },
  {
   "cell_type": "code",
   "execution_count": 49,
   "id": "73e18701-e159-4eb3-af1a-169b42e52a23",
   "metadata": {},
   "outputs": [
    {
     "data": {
      "text/plain": [
       "array([ True,  True,  True,  True,  True])"
      ]
     },
     "execution_count": 49,
     "metadata": {},
     "output_type": "execute_result"
    }
   ],
   "source": [
    "numbers == numbers"
   ]
  },
  {
   "cell_type": "markdown",
   "id": "605810be-0935-4be3-82ed-c06825f43754",
   "metadata": {},
   "source": [
    "7.7 Self Check"
   ]
  },
  {
   "cell_type": "code",
   "execution_count": 50,
   "id": "2034f860-8593-478c-9e4a-570f19a42c38",
   "metadata": {},
   "outputs": [
    {
     "data": {
      "text/plain": [
       "array([ 1,  4,  9, 16, 25], dtype=int32)"
      ]
     },
     "execution_count": 50,
     "metadata": {},
     "output_type": "execute_result"
    }
   ],
   "source": [
    "# 2) Create an array of the values from 1 through 5, then use broadcasting to square each value.\n",
    "\n",
    "np.arange(1, 6) ** 2"
   ]
  },
  {
   "cell_type": "markdown",
   "id": "e137d6d2-f856-477a-8296-2c68cca9d6e3",
   "metadata": {},
   "source": [
    "7.8 NumPy Calculation Methods"
   ]
  },
  {
   "cell_type": "code",
   "execution_count": 51,
   "id": "37a43e2d-cfe2-429c-83c2-3aac4e15569c",
   "metadata": {},
   "outputs": [
    {
     "data": {
      "text/plain": [
       "array([[ 87,  96,  70],\n",
       "       [100,  87,  90],\n",
       "       [ 94,  77,  90],\n",
       "       [100,  81,  82]])"
      ]
     },
     "execution_count": 51,
     "metadata": {},
     "output_type": "execute_result"
    }
   ],
   "source": [
    "# Calculate sum, min, max, mean, standard deviation, and variance\n",
    "\n",
    "grades = np.array([[87, 96, 70], [100, 87, 90],\n",
    "                   [94, 77, 90], [100, 81, 82]])\n",
    "\n",
    "grades"
   ]
  },
  {
   "cell_type": "code",
   "execution_count": 52,
   "id": "5537b292-deef-4669-aeae-905851c39de1",
   "metadata": {},
   "outputs": [
    {
     "data": {
      "text/plain": [
       "1054"
      ]
     },
     "execution_count": 52,
     "metadata": {},
     "output_type": "execute_result"
    }
   ],
   "source": [
    "grades.sum()"
   ]
  },
  {
   "cell_type": "code",
   "execution_count": 53,
   "id": "c55e9647-4fc4-4ed5-85b3-6e40a464c22a",
   "metadata": {},
   "outputs": [
    {
     "data": {
      "text/plain": [
       "70"
      ]
     },
     "execution_count": 53,
     "metadata": {},
     "output_type": "execute_result"
    }
   ],
   "source": [
    "grades.min()"
   ]
  },
  {
   "cell_type": "code",
   "execution_count": 54,
   "id": "ee2db759-f4d4-40cc-b085-04d7addae3d1",
   "metadata": {},
   "outputs": [
    {
     "data": {
      "text/plain": [
       "87.83333333333333"
      ]
     },
     "execution_count": 54,
     "metadata": {},
     "output_type": "execute_result"
    }
   ],
   "source": [
    "grades.mean()"
   ]
  },
  {
   "cell_type": "code",
   "execution_count": 55,
   "id": "4233a24a-584c-47a0-9168-2e10feb52813",
   "metadata": {},
   "outputs": [
    {
     "data": {
      "text/plain": [
       "8.792357792739987"
      ]
     },
     "execution_count": 55,
     "metadata": {},
     "output_type": "execute_result"
    }
   ],
   "source": [
    "grades.std()"
   ]
  },
  {
   "cell_type": "code",
   "execution_count": 56,
   "id": "8492807b-7322-439c-bad4-02a121c9ad0b",
   "metadata": {},
   "outputs": [
    {
     "data": {
      "text/plain": [
       "77.30555555555556"
      ]
     },
     "execution_count": 56,
     "metadata": {},
     "output_type": "execute_result"
    }
   ],
   "source": [
    "grades.var()"
   ]
  },
  {
   "cell_type": "code",
   "execution_count": 57,
   "id": "6bba00a2-f9f8-4fe3-8587-3db8390478d8",
   "metadata": {},
   "outputs": [
    {
     "data": {
      "text/plain": [
       "array([95.25, 85.25, 83.  ])"
      ]
     },
     "execution_count": 57,
     "metadata": {},
     "output_type": "execute_result"
    }
   ],
   "source": [
    "# Calculations by row\n",
    "\n",
    "grades.mean(axis=0)"
   ]
  },
  {
   "cell_type": "code",
   "execution_count": 58,
   "id": "385937d3-dbe9-4f27-9111-38f98ca8dc7a",
   "metadata": {},
   "outputs": [
    {
     "data": {
      "text/plain": [
       "array([84.33333333, 92.33333333, 87.        , 87.66666667])"
      ]
     },
     "execution_count": 58,
     "metadata": {},
     "output_type": "execute_result"
    }
   ],
   "source": [
    "grades.mean(axis=1)"
   ]
  },
  {
   "cell_type": "markdown",
   "id": "a43b1732-b142-4856-8ded-7e9b72a17b21",
   "metadata": {},
   "source": [
    "7.8 Self Check"
   ]
  },
  {
   "cell_type": "code",
   "execution_count": 59,
   "id": "0cdbd5db-7e66-4ab4-adbb-00d958fb7ac5",
   "metadata": {},
   "outputs": [
    {
     "data": {
      "text/plain": [
       "array([[98, 74, 77, 97],\n",
       "       [62, 99, 96, 72],\n",
       "       [96, 60, 60, 61]])"
      ]
     },
     "execution_count": 59,
     "metadata": {},
     "output_type": "execute_result"
    }
   ],
   "source": [
    "# 2) Use NumPy random-number generation to create an array of twelve random grades in the range 60\n",
    "# through 100, then reshape the result into a 3-by-4 array. Calculate the average of all the grades, \n",
    "# the average of the grades in each column and the averages of the grades in each row.\n",
    "\n",
    "grades = np.random.randint(60, 101, 12).reshape(3, 4)\n",
    "\n",
    "grades"
   ]
  },
  {
   "cell_type": "code",
   "execution_count": 60,
   "id": "890b0f8a-bfd8-4c35-90cf-1d8a2f97de59",
   "metadata": {},
   "outputs": [
    {
     "data": {
      "text/plain": [
       "79.33333333333333"
      ]
     },
     "execution_count": 60,
     "metadata": {},
     "output_type": "execute_result"
    }
   ],
   "source": [
    "grades.mean()"
   ]
  },
  {
   "cell_type": "code",
   "execution_count": 61,
   "id": "fdf04049-e07d-4c4b-b075-f2776afc3aeb",
   "metadata": {},
   "outputs": [
    {
     "data": {
      "text/plain": [
       "array([85.33333333, 77.66666667, 77.66666667, 76.66666667])"
      ]
     },
     "execution_count": 61,
     "metadata": {},
     "output_type": "execute_result"
    }
   ],
   "source": [
    "grades.mean(axis=0)"
   ]
  },
  {
   "cell_type": "code",
   "execution_count": 62,
   "id": "ce2da60b-a501-4088-a392-c472d195740f",
   "metadata": {},
   "outputs": [
    {
     "data": {
      "text/plain": [
       "array([86.5 , 82.25, 69.25])"
      ]
     },
     "execution_count": 62,
     "metadata": {},
     "output_type": "execute_result"
    }
   ],
   "source": [
    "grades.mean(axis=1)"
   ]
  },
  {
   "cell_type": "markdown",
   "id": "035c2f67-8911-4781-a623-e8a074ab5b5e",
   "metadata": {},
   "source": [
    "7.9 Universal Functions"
   ]
  },
  {
   "cell_type": "code",
   "execution_count": 63,
   "id": "c320d6eb-13ec-4994-a8c9-0d6111ccc4e2",
   "metadata": {},
   "outputs": [
    {
     "data": {
      "text/plain": [
       "array([1., 2., 3., 4., 5., 6.])"
      ]
     },
     "execution_count": 63,
     "metadata": {},
     "output_type": "execute_result"
    }
   ],
   "source": [
    "# sqrt\n",
    "\n",
    "numbers = np.array([1, 4, 9, 16, 25, 36])\n",
    "\n",
    "np.sqrt(numbers)"
   ]
  },
  {
   "cell_type": "code",
   "execution_count": 64,
   "id": "13e10495-ceb4-422c-9148-276e91ac5c3e",
   "metadata": {},
   "outputs": [
    {
     "data": {
      "text/plain": [
       "array([10, 20, 30, 40, 50, 60])"
      ]
     },
     "execution_count": 64,
     "metadata": {},
     "output_type": "execute_result"
    }
   ],
   "source": [
    "numbers2 = np.arange(1, 7) * 10\n",
    "\n",
    "numbers2"
   ]
  },
  {
   "cell_type": "code",
   "execution_count": 65,
   "id": "b9386594-6b97-4eb6-84de-60cfa302ce0b",
   "metadata": {},
   "outputs": [
    {
     "data": {
      "text/plain": [
       "array([11, 24, 39, 56, 75, 96])"
      ]
     },
     "execution_count": 65,
     "metadata": {},
     "output_type": "execute_result"
    }
   ],
   "source": [
    "np.add(numbers, numbers2)"
   ]
  },
  {
   "cell_type": "code",
   "execution_count": 66,
   "id": "160f2618-3bf9-4565-b457-8623e2397527",
   "metadata": {},
   "outputs": [
    {
     "data": {
      "text/plain": [
       "array([ 50, 100, 150, 200, 250, 300])"
      ]
     },
     "execution_count": 66,
     "metadata": {},
     "output_type": "execute_result"
    }
   ],
   "source": [
    "# multiply\n",
    "\n",
    "np.multiply(numbers2, 5)"
   ]
  },
  {
   "cell_type": "code",
   "execution_count": 67,
   "id": "18620dbf-134f-4195-ac74-a33ad64a0561",
   "metadata": {},
   "outputs": [
    {
     "data": {
      "text/plain": [
       "array([[10, 20, 30],\n",
       "       [40, 50, 60]])"
      ]
     },
     "execution_count": 67,
     "metadata": {},
     "output_type": "execute_result"
    }
   ],
   "source": [
    "numbers3 = numbers2.reshape(2, 3)\n",
    "\n",
    "numbers3"
   ]
  },
  {
   "cell_type": "code",
   "execution_count": 68,
   "id": "80a7d92d-f0c9-4834-9db9-30ccf4a2e7f0",
   "metadata": {},
   "outputs": [
    {
     "data": {
      "text/plain": [
       "array([[ 20,  80, 180],\n",
       "       [ 80, 200, 360]])"
      ]
     },
     "execution_count": 68,
     "metadata": {},
     "output_type": "execute_result"
    }
   ],
   "source": [
    "numbers4 = np.array([2, 4, 6])\n",
    "\n",
    "np.multiply(numbers3, numbers4)"
   ]
  },
  {
   "cell_type": "markdown",
   "id": "efa1f72d-3dcf-43b9-9d91-ca70cf44c579",
   "metadata": {},
   "source": [
    "7.9 Self Check"
   ]
  },
  {
   "cell_type": "code",
   "execution_count": 69,
   "id": "2c7f5a0a-6ecb-43e9-b03b-d1e88af85210",
   "metadata": {},
   "outputs": [
    {
     "data": {
      "text/plain": [
       "array([  1,   8,  27,  64, 125], dtype=int32)"
      ]
     },
     "execution_count": 69,
     "metadata": {},
     "output_type": "execute_result"
    }
   ],
   "source": [
    "# 2) Create an array of the values from 1 through 5, then use the power universal function and broadcasting to cube \n",
    "# each value.\n",
    "\n",
    "numbers = np.arange(1, 6)\n",
    "\n",
    "np.power(numbers, 3)"
   ]
  },
  {
   "cell_type": "markdown",
   "id": "dbbdfc7d-b840-4f1c-9f3d-fe8e0a824ab2",
   "metadata": {},
   "source": [
    "7.10 Indexing and Slicing"
   ]
  },
  {
   "cell_type": "code",
   "execution_count": 70,
   "id": "29ad4c73-31fc-41f8-a194-f4259fdae41a",
   "metadata": {},
   "outputs": [
    {
     "data": {
      "text/plain": [
       "array([[ 87,  96,  70],\n",
       "       [100,  87,  90],\n",
       "       [ 94,  77,  90],\n",
       "       [100,  81,  82]])"
      ]
     },
     "execution_count": 70,
     "metadata": {},
     "output_type": "execute_result"
    }
   ],
   "source": [
    "grades = np.array([[87, 96, 70], [100, 87, 90],\n",
    "                   [94, 77, 90], [100, 81, 82]])\n",
    "\n",
    "grades"
   ]
  },
  {
   "cell_type": "code",
   "execution_count": 71,
   "id": "8a2bb15c-568f-4399-bf82-80de1edd2f42",
   "metadata": {},
   "outputs": [
    {
     "data": {
      "text/plain": [
       "96"
      ]
     },
     "execution_count": 71,
     "metadata": {},
     "output_type": "execute_result"
    }
   ],
   "source": [
    "grades[0, 1] # row 0, column 1"
   ]
  },
  {
   "cell_type": "code",
   "execution_count": 72,
   "id": "dbc51ed1-24da-42fb-8187-4e2cd20acfe9",
   "metadata": {},
   "outputs": [
    {
     "data": {
      "text/plain": [
       "array([100,  87,  90])"
      ]
     },
     "execution_count": 72,
     "metadata": {},
     "output_type": "execute_result"
    }
   ],
   "source": [
    "# row 1 \n",
    "grades[1]"
   ]
  },
  {
   "cell_type": "code",
   "execution_count": 73,
   "id": "aebb3c70-176f-4d00-b898-e4311433b435",
   "metadata": {},
   "outputs": [
    {
     "data": {
      "text/plain": [
       "array([[ 87,  96,  70],\n",
       "       [100,  87,  90]])"
      ]
     },
     "execution_count": 73,
     "metadata": {},
     "output_type": "execute_result"
    }
   ],
   "source": [
    "# sequential rows 0 through 2\n",
    "grades[0:2]"
   ]
  },
  {
   "cell_type": "code",
   "execution_count": 74,
   "id": "5a80015a-18b3-4b56-a726-08599ce9f59c",
   "metadata": {},
   "outputs": [
    {
     "data": {
      "text/plain": [
       "array([[100,  87,  90],\n",
       "       [100,  81,  82]])"
      ]
     },
     "execution_count": 74,
     "metadata": {},
     "output_type": "execute_result"
    }
   ],
   "source": [
    "# nonsequential rows\n",
    "grades[[1, 3]]"
   ]
  },
  {
   "cell_type": "code",
   "execution_count": 75,
   "id": "3b6d1565-3f29-4bda-ac46-c3d830ed2d78",
   "metadata": {},
   "outputs": [
    {
     "data": {
      "text/plain": [
       "array([ 87, 100,  94, 100])"
      ]
     },
     "execution_count": 75,
     "metadata": {},
     "output_type": "execute_result"
    }
   ],
   "source": [
    "# grades in first column\n",
    "grades[:, 0]"
   ]
  },
  {
   "cell_type": "code",
   "execution_count": 76,
   "id": "1272c993-fb23-4050-86fd-c8adab52c8c2",
   "metadata": {},
   "outputs": [
    {
     "data": {
      "text/plain": [
       "array([[96, 70],\n",
       "       [87, 90],\n",
       "       [77, 90],\n",
       "       [81, 82]])"
      ]
     },
     "execution_count": 76,
     "metadata": {},
     "output_type": "execute_result"
    }
   ],
   "source": [
    "# consecutive columns\n",
    "\n",
    "grades[:, 1:3]"
   ]
  },
  {
   "cell_type": "code",
   "execution_count": 77,
   "id": "0ffe82c1-7c9d-41ac-affe-9e87fc0ac705",
   "metadata": {},
   "outputs": [
    {
     "data": {
      "text/plain": [
       "array([[ 87,  70],\n",
       "       [100,  90],\n",
       "       [ 94,  90],\n",
       "       [100,  82]])"
      ]
     },
     "execution_count": 77,
     "metadata": {},
     "output_type": "execute_result"
    }
   ],
   "source": [
    "# specific columns\n",
    "grades[:, [0, 2]]"
   ]
  },
  {
   "cell_type": "markdown",
   "id": "46e2bede-e709-41b6-be03-7420a6e08baa",
   "metadata": {},
   "source": [
    "7.10 Self Check"
   ]
  },
  {
   "cell_type": "code",
   "execution_count": 78,
   "id": "496f9ae8-a4b8-453a-8e2d-6e81ee9bd8a2",
   "metadata": {},
   "outputs": [
    {
     "data": {
      "text/plain": [
       "array([[ 1,  2,  3,  4,  5],\n",
       "       [ 6,  7,  8,  9, 10],\n",
       "       [11, 12, 13, 14, 15]])"
      ]
     },
     "execution_count": 78,
     "metadata": {},
     "output_type": "execute_result"
    }
   ],
   "source": [
    "# 1) Given the following array:\n",
    "#    array([[1, 2, 3, 4, 5],\n",
    "#           [6, 7, 8, 9, 10],\n",
    "#           [11, 12, 13, 14, 15]])\n",
    "#\n",
    "# write statements to perform the following tasks:\n",
    "#\n",
    "# a) Select the second row.\n",
    "# b) Select the first and third rows.\n",
    "# c) Select the middle three columns.\n",
    "\n",
    "a = np.arange(1, 16).reshape(3, 5)\n",
    "\n",
    "a"
   ]
  },
  {
   "cell_type": "code",
   "execution_count": 79,
   "id": "1081fc3d-2b6c-437a-81f3-58fb0df401e6",
   "metadata": {},
   "outputs": [
    {
     "data": {
      "text/plain": [
       "array([ 6,  7,  8,  9, 10])"
      ]
     },
     "execution_count": 79,
     "metadata": {},
     "output_type": "execute_result"
    }
   ],
   "source": [
    "a[1]"
   ]
  },
  {
   "cell_type": "code",
   "execution_count": 80,
   "id": "d2e92d16-07d7-43cd-8422-59f60deb21ba",
   "metadata": {},
   "outputs": [
    {
     "data": {
      "text/plain": [
       "array([[ 1,  2,  3,  4,  5],\n",
       "       [11, 12, 13, 14, 15]])"
      ]
     },
     "execution_count": 80,
     "metadata": {},
     "output_type": "execute_result"
    }
   ],
   "source": [
    "a[[0, 2]]"
   ]
  },
  {
   "cell_type": "code",
   "execution_count": 81,
   "id": "ef5f89ba-decd-4216-ad3f-21c934b251b0",
   "metadata": {},
   "outputs": [
    {
     "data": {
      "text/plain": [
       "array([[ 2,  3,  4],\n",
       "       [ 7,  8,  9],\n",
       "       [12, 13, 14]])"
      ]
     },
     "execution_count": 81,
     "metadata": {},
     "output_type": "execute_result"
    }
   ],
   "source": [
    "a[:, 1:4]"
   ]
  },
  {
   "cell_type": "markdown",
   "id": "c47c07c0-971b-4aee-ab69-7f3bae2e3617",
   "metadata": {},
   "source": [
    "7.11 Views: Shallow Copies"
   ]
  },
  {
   "cell_type": "code",
   "execution_count": 82,
   "id": "843b8e58-eee5-4583-9693-b4951d7d8acb",
   "metadata": {},
   "outputs": [
    {
     "data": {
      "text/plain": [
       "array([1, 2, 3, 4, 5])"
      ]
     },
     "execution_count": 82,
     "metadata": {},
     "output_type": "execute_result"
    }
   ],
   "source": [
    "# Create an array and view of the array\n",
    "\n",
    "numbers = np.arange(1, 6)\n",
    "\n",
    "numbers"
   ]
  },
  {
   "cell_type": "code",
   "execution_count": 83,
   "id": "cdc21250-1f43-474f-873d-ed5c8c01cad5",
   "metadata": {},
   "outputs": [
    {
     "data": {
      "text/plain": [
       "array([1, 2, 3, 4, 5])"
      ]
     },
     "execution_count": 83,
     "metadata": {},
     "output_type": "execute_result"
    }
   ],
   "source": [
    "numbers2 = numbers.view()\n",
    "\n",
    "numbers2"
   ]
  },
  {
   "cell_type": "code",
   "execution_count": 84,
   "id": "50fa7146-b95d-46b2-a75c-f4c258f8f0f7",
   "metadata": {},
   "outputs": [
    {
     "data": {
      "text/plain": [
       "2299078218928"
      ]
     },
     "execution_count": 84,
     "metadata": {},
     "output_type": "execute_result"
    }
   ],
   "source": [
    "# Use built-in id function to see that numbers and numbers2 are different objects\n",
    "\n",
    "id(numbers)"
   ]
  },
  {
   "cell_type": "code",
   "execution_count": 85,
   "id": "f28648e9-d278-482a-9c39-31d6b88c6a4b",
   "metadata": {},
   "outputs": [
    {
     "data": {
      "text/plain": [
       "2299099216944"
      ]
     },
     "execution_count": 85,
     "metadata": {},
     "output_type": "execute_result"
    }
   ],
   "source": [
    "id(numbers2)"
   ]
  },
  {
   "cell_type": "code",
   "execution_count": 86,
   "id": "8b04e34b-f1e6-4375-af36-d5d2c9bf71bc",
   "metadata": {},
   "outputs": [
    {
     "data": {
      "text/plain": [
       "array([ 1, 20,  3,  4,  5])"
      ]
     },
     "execution_count": 86,
     "metadata": {},
     "output_type": "execute_result"
    }
   ],
   "source": [
    "# To show that numbers2 views the same data as numbers\n",
    "\n",
    "numbers[1] *= 10\n",
    "\n",
    "numbers2"
   ]
  },
  {
   "cell_type": "code",
   "execution_count": 87,
   "id": "4dcc9d2a-4d57-4dfa-b092-f74ee6582b57",
   "metadata": {},
   "outputs": [
    {
     "data": {
      "text/plain": [
       "array([ 1, 20,  3,  4,  5])"
      ]
     },
     "execution_count": 87,
     "metadata": {},
     "output_type": "execute_result"
    }
   ],
   "source": [
    "numbers"
   ]
  },
  {
   "cell_type": "code",
   "execution_count": 88,
   "id": "f9261bbe-4518-4039-a2bf-9fbce8a15ad3",
   "metadata": {},
   "outputs": [
    {
     "data": {
      "text/plain": [
       "array([1, 2, 3, 4, 5])"
      ]
     },
     "execution_count": 88,
     "metadata": {},
     "output_type": "execute_result"
    }
   ],
   "source": [
    "numbers2[1] /= 10\n",
    "\n",
    "numbers"
   ]
  },
  {
   "cell_type": "code",
   "execution_count": 89,
   "id": "c9d8f876-53e8-4a6b-9ba0-d528649f6a06",
   "metadata": {},
   "outputs": [
    {
     "data": {
      "text/plain": [
       "array([1, 2, 3, 4, 5])"
      ]
     },
     "execution_count": 89,
     "metadata": {},
     "output_type": "execute_result"
    }
   ],
   "source": [
    "numbers2"
   ]
  },
  {
   "cell_type": "code",
   "execution_count": 90,
   "id": "834e3bd8-5365-4630-b354-cb000f2a0dc0",
   "metadata": {},
   "outputs": [
    {
     "data": {
      "text/plain": [
       "array([1, 2, 3])"
      ]
     },
     "execution_count": 90,
     "metadata": {},
     "output_type": "execute_result"
    }
   ],
   "source": [
    "# Slice views\n",
    "\n",
    "numbers2 = numbers[0:3]\n",
    "\n",
    "numbers2"
   ]
  },
  {
   "cell_type": "code",
   "execution_count": 91,
   "id": "7bd5d90b-a220-4131-823b-6e343d4ec8b5",
   "metadata": {},
   "outputs": [
    {
     "data": {
      "text/plain": [
       "2299078218928"
      ]
     },
     "execution_count": 91,
     "metadata": {},
     "output_type": "execute_result"
    }
   ],
   "source": [
    "id(numbers)"
   ]
  },
  {
   "cell_type": "code",
   "execution_count": 92,
   "id": "480ee608-912b-4aaf-b543-ef4f60ec7422",
   "metadata": {},
   "outputs": [
    {
     "data": {
      "text/plain": [
       "2299099311920"
      ]
     },
     "execution_count": 92,
     "metadata": {},
     "output_type": "execute_result"
    }
   ],
   "source": [
    "id(numbers2)"
   ]
  },
  {
   "cell_type": "code",
   "execution_count": 93,
   "id": "2f79f051-a754-447b-81d7-12beaf279890",
   "metadata": {},
   "outputs": [
    {
     "ename": "IndexError",
     "evalue": "index 3 is out of bounds for axis 0 with size 3",
     "output_type": "error",
     "traceback": [
      "\u001b[1;31m---------------------------------------------------------------------------\u001b[0m",
      "\u001b[1;31mIndexError\u001b[0m                                Traceback (most recent call last)",
      "Input \u001b[1;32mIn [93]\u001b[0m, in \u001b[0;36m<cell line: 4>\u001b[1;34m()\u001b[0m\n\u001b[0;32m      1\u001b[0m \u001b[38;5;66;03m# numbers2 is a view of only the first three numbers, so attempting to access the other numbers \u001b[39;00m\n\u001b[0;32m      2\u001b[0m \u001b[38;5;66;03m# produces an IndexError\u001b[39;00m\n\u001b[1;32m----> 4\u001b[0m \u001b[43mnumbers2\u001b[49m\u001b[43m[\u001b[49m\u001b[38;5;241;43m3\u001b[39;49m\u001b[43m]\u001b[49m\n",
      "\u001b[1;31mIndexError\u001b[0m: index 3 is out of bounds for axis 0 with size 3"
     ]
    }
   ],
   "source": [
    "# numbers2 is a view of only the first three numbers, so attempting to access the other numbers \n",
    "# produces an IndexError\n",
    "\n",
    "numbers2[3]"
   ]
  },
  {
   "cell_type": "code",
   "execution_count": null,
   "id": "3fcd5e7d-5047-4601-9299-ab19134ccb0b",
   "metadata": {},
   "outputs": [],
   "source": [
    "numbers[1] *= 20\n",
    "\n",
    "numbers"
   ]
  },
  {
   "cell_type": "code",
   "execution_count": 94,
   "id": "b9e78a06-b150-44a0-885a-1ef1ac71a475",
   "metadata": {},
   "outputs": [
    {
     "data": {
      "text/plain": [
       "array([1, 2, 3, 4, 5])"
      ]
     },
     "execution_count": 94,
     "metadata": {},
     "output_type": "execute_result"
    }
   ],
   "source": [
    "numbers"
   ]
  },
  {
   "cell_type": "code",
   "execution_count": 95,
   "id": "9f127778-382f-49fd-ac75-5b2b43fc6341",
   "metadata": {},
   "outputs": [
    {
     "data": {
      "text/plain": [
       "array([1, 2, 3])"
      ]
     },
     "execution_count": 95,
     "metadata": {},
     "output_type": "execute_result"
    }
   ],
   "source": [
    "numbers2"
   ]
  },
  {
   "cell_type": "markdown",
   "id": "f50b5354-682a-4a2b-86d5-a255d9a3853d",
   "metadata": {},
   "source": [
    "7.12 Deep Copies"
   ]
  },
  {
   "cell_type": "code",
   "execution_count": 102,
   "id": "413dde78-1a67-4f8b-92d0-3933f263b58c",
   "metadata": {},
   "outputs": [
    {
     "data": {
      "text/plain": [
       "array([1, 2, 3, 4, 5])"
      ]
     },
     "execution_count": 102,
     "metadata": {},
     "output_type": "execute_result"
    }
   ],
   "source": [
    "# array method copy creates a new array object with a deep copy of the original array object's data\n",
    "\n",
    "numbers = np.arange(1, 6)\n",
    "\n",
    "numbers"
   ]
  },
  {
   "cell_type": "code",
   "execution_count": 103,
   "id": "d6996c1e-255f-4322-b802-b3310b58fcc9",
   "metadata": {},
   "outputs": [
    {
     "data": {
      "text/plain": [
       "array([1, 2, 3, 4, 5])"
      ]
     },
     "execution_count": 103,
     "metadata": {},
     "output_type": "execute_result"
    }
   ],
   "source": [
    "numbers2 = numbers.copy()\n",
    "\n",
    "numbers2"
   ]
  },
  {
   "cell_type": "code",
   "execution_count": 104,
   "id": "4aca3860-ea6f-4b41-8f21-bab1b10bd446",
   "metadata": {},
   "outputs": [
    {
     "data": {
      "text/plain": [
       "array([ 1, 20,  3,  4,  5])"
      ]
     },
     "execution_count": 104,
     "metadata": {},
     "output_type": "execute_result"
    }
   ],
   "source": [
    "numbers[1] *= 10\n",
    "\n",
    "numbers"
   ]
  },
  {
   "cell_type": "code",
   "execution_count": 105,
   "id": "288480a3-bb89-4e37-8b1f-bfbe7e0d0cf9",
   "metadata": {},
   "outputs": [
    {
     "data": {
      "text/plain": [
       "array([1, 2, 3, 4, 5])"
      ]
     },
     "execution_count": 105,
     "metadata": {},
     "output_type": "execute_result"
    }
   ],
   "source": [
    "numbers2"
   ]
  },
  {
   "cell_type": "markdown",
   "id": "43ed8c4d-4c99-4590-9bb0-bd8f2eb8cbb8",
   "metadata": {},
   "source": [
    "7.13 Reshaping and Transposing"
   ]
  },
  {
   "cell_type": "code",
   "execution_count": 106,
   "id": "e0b0303e-a2dd-4fc7-b983-29af957e158b",
   "metadata": {},
   "outputs": [
    {
     "data": {
      "text/plain": [
       "array([[ 87,  96,  70],\n",
       "       [100,  87,  90]])"
      ]
     },
     "execution_count": 106,
     "metadata": {},
     "output_type": "execute_result"
    }
   ],
   "source": [
    "# reshape vs. resize\n",
    "# reshape is a view (shallow copy)\n",
    "\n",
    "grades = np.array([[87, 96, 70], [100, 87, 90]])\n",
    "\n",
    "grades"
   ]
  },
  {
   "cell_type": "code",
   "execution_count": 107,
   "id": "0f4f345d-437b-454a-ba44-2b0d75a2d384",
   "metadata": {},
   "outputs": [
    {
     "data": {
      "text/plain": [
       "array([[ 87,  96,  70, 100,  87,  90]])"
      ]
     },
     "execution_count": 107,
     "metadata": {},
     "output_type": "execute_result"
    }
   ],
   "source": [
    "grades.reshape(1, 6)"
   ]
  },
  {
   "cell_type": "code",
   "execution_count": 108,
   "id": "3f9760e5-b472-4b52-a84d-6b2080e00d51",
   "metadata": {},
   "outputs": [
    {
     "data": {
      "text/plain": [
       "array([[ 87,  96,  70],\n",
       "       [100,  87,  90]])"
      ]
     },
     "execution_count": 108,
     "metadata": {},
     "output_type": "execute_result"
    }
   ],
   "source": [
    "grades"
   ]
  },
  {
   "cell_type": "code",
   "execution_count": 110,
   "id": "e15ca30f-fac8-414e-8c05-3893414aeef0",
   "metadata": {},
   "outputs": [
    {
     "data": {
      "text/plain": [
       "array([[ 87,  96,  70, 100,  87,  90]])"
      ]
     },
     "execution_count": 110,
     "metadata": {},
     "output_type": "execute_result"
    }
   ],
   "source": [
    "# resize modifies the original array's shape\n",
    "\n",
    "grades.resize(1, 6)\n",
    "\n",
    "grades"
   ]
  },
  {
   "cell_type": "code",
   "execution_count": 111,
   "id": "2fb2225c-0052-4b1b-a8ce-975c88b69cb0",
   "metadata": {},
   "outputs": [
    {
     "data": {
      "text/plain": [
       "array([[ 87,  96,  70],\n",
       "       [100,  87,  90]])"
      ]
     },
     "execution_count": 111,
     "metadata": {},
     "output_type": "execute_result"
    }
   ],
   "source": [
    "# flatten vs. ravel\n",
    "# flatten deep copies the original array's data\n",
    "\n",
    "grades = np.array([[87, 96, 70], [100, 87, 90]])\n",
    "\n",
    "grades"
   ]
  },
  {
   "cell_type": "code",
   "execution_count": 112,
   "id": "3f876e15-f170-4433-9eef-a6afacabf29e",
   "metadata": {},
   "outputs": [
    {
     "data": {
      "text/plain": [
       "array([ 87,  96,  70, 100,  87,  90])"
      ]
     },
     "execution_count": 112,
     "metadata": {},
     "output_type": "execute_result"
    }
   ],
   "source": [
    "flattened = grades.flatten()\n",
    "\n",
    "flattened"
   ]
  },
  {
   "cell_type": "code",
   "execution_count": 113,
   "id": "0d724704-23ae-44ce-816f-0f5175771665",
   "metadata": {},
   "outputs": [
    {
     "data": {
      "text/plain": [
       "array([[ 87,  96,  70],\n",
       "       [100,  87,  90]])"
      ]
     },
     "execution_count": 113,
     "metadata": {},
     "output_type": "execute_result"
    }
   ],
   "source": [
    "grades"
   ]
  },
  {
   "cell_type": "code",
   "execution_count": 114,
   "id": "2e996225-3c2b-4b57-8277-ea273c905977",
   "metadata": {},
   "outputs": [
    {
     "data": {
      "text/plain": [
       "array([100,  96,  70, 100,  87,  90])"
      ]
     },
     "execution_count": 114,
     "metadata": {},
     "output_type": "execute_result"
    }
   ],
   "source": [
    "# flattened and grade DO NOT SHARE data\n",
    "\n",
    "flattened[0] = 100\n",
    "\n",
    "flattened"
   ]
  },
  {
   "cell_type": "code",
   "execution_count": 115,
   "id": "bbf10450-409f-4f05-b706-8223aa9c88fc",
   "metadata": {},
   "outputs": [
    {
     "data": {
      "text/plain": [
       "array([[ 87,  96,  70],\n",
       "       [100,  87,  90]])"
      ]
     },
     "execution_count": 115,
     "metadata": {},
     "output_type": "execute_result"
    }
   ],
   "source": [
    "grades"
   ]
  },
  {
   "cell_type": "code",
   "execution_count": 116,
   "id": "cef72ccb-76bd-44fd-8153-e3c98924d39f",
   "metadata": {},
   "outputs": [
    {
     "data": {
      "text/plain": [
       "array([ 87,  96,  70, 100,  87,  90])"
      ]
     },
     "execution_count": 116,
     "metadata": {},
     "output_type": "execute_result"
    }
   ],
   "source": [
    "# ravel produces a view of the original array, which shares the grade's array data\n",
    "\n",
    "raveled = grades.ravel()\n",
    "\n",
    "raveled"
   ]
  },
  {
   "cell_type": "code",
   "execution_count": 117,
   "id": "665dadbb-781b-4d9b-9606-8f6b2b305c1f",
   "metadata": {},
   "outputs": [
    {
     "data": {
      "text/plain": [
       "array([[ 87,  96,  70],\n",
       "       [100,  87,  90]])"
      ]
     },
     "execution_count": 117,
     "metadata": {},
     "output_type": "execute_result"
    }
   ],
   "source": [
    "grades"
   ]
  },
  {
   "cell_type": "code",
   "execution_count": 118,
   "id": "e46fe6c0-bea7-4948-b729-d999b5af3b3f",
   "metadata": {},
   "outputs": [
    {
     "data": {
      "text/plain": [
       "array([100,  96,  70, 100,  87,  90])"
      ]
     },
     "execution_count": 118,
     "metadata": {},
     "output_type": "execute_result"
    }
   ],
   "source": [
    "raveled[0] = 100\n",
    "\n",
    "raveled"
   ]
  },
  {
   "cell_type": "code",
   "execution_count": 119,
   "id": "b02047d8-ad08-421a-9972-012b8c7e8b95",
   "metadata": {},
   "outputs": [
    {
     "data": {
      "text/plain": [
       "array([[100,  96,  70],\n",
       "       [100,  87,  90]])"
      ]
     },
     "execution_count": 119,
     "metadata": {},
     "output_type": "execute_result"
    }
   ],
   "source": [
    "grades"
   ]
  },
  {
   "cell_type": "code",
   "execution_count": 120,
   "id": "217f3ada-771c-4568-9750-eaa6917ab92b",
   "metadata": {},
   "outputs": [
    {
     "data": {
      "text/plain": [
       "array([[100, 100],\n",
       "       [ 96,  87],\n",
       "       [ 70,  90]])"
      ]
     },
     "execution_count": 120,
     "metadata": {},
     "output_type": "execute_result"
    }
   ],
   "source": [
    "# Transposing rows and columns\n",
    "\n",
    "grades.T"
   ]
  },
  {
   "cell_type": "code",
   "execution_count": 121,
   "id": "9efff5f9-7b5a-4024-8970-8e6b5cb47981",
   "metadata": {},
   "outputs": [
    {
     "data": {
      "text/plain": [
       "array([[100,  96,  70],\n",
       "       [100,  87,  90]])"
      ]
     },
     "execution_count": 121,
     "metadata": {},
     "output_type": "execute_result"
    }
   ],
   "source": [
    "grades"
   ]
  },
  {
   "cell_type": "code",
   "execution_count": 122,
   "id": "952e63e3-cb3f-467a-8c0e-065c7b0a3035",
   "metadata": {},
   "outputs": [
    {
     "data": {
      "text/plain": [
       "array([[100,  96,  70,  94,  77,  90],\n",
       "       [100,  87,  90, 100,  81,  82]])"
      ]
     },
     "execution_count": 122,
     "metadata": {},
     "output_type": "execute_result"
    }
   ],
   "source": [
    "# Horizontal and vertical stacking\n",
    "\n",
    "grades2 = np.array([[94, 77, 90], [100, 81, 82]])\n",
    "\n",
    "np.hstack((grades, grades2)) # combines grades and grades2"
   ]
  },
  {
   "cell_type": "code",
   "execution_count": 123,
   "id": "10ab2849-a481-482e-b55c-2a619facc8c7",
   "metadata": {},
   "outputs": [
    {
     "data": {
      "text/plain": [
       "array([[100,  96,  70],\n",
       "       [100,  87,  90],\n",
       "       [ 94,  77,  90],\n",
       "       [100,  81,  82]])"
      ]
     },
     "execution_count": 123,
     "metadata": {},
     "output_type": "execute_result"
    }
   ],
   "source": [
    "np.vstack((grades, grades2))"
   ]
  },
  {
   "cell_type": "markdown",
   "id": "180014a0-d676-4b1e-b414-acc1cc51fa54",
   "metadata": {},
   "source": [
    "7.13 Self Check"
   ]
  },
  {
   "cell_type": "code",
   "execution_count": 124,
   "id": "b073244f-40d3-4bc7-bdb8-6ad8dc46d69b",
   "metadata": {},
   "outputs": [
    {
     "data": {
      "text/plain": [
       "array([[1, 2, 3],\n",
       "       [4, 5, 6]])"
      ]
     },
     "execution_count": 124,
     "metadata": {},
     "output_type": "execute_result"
    }
   ],
   "source": [
    "# 1) Given a 2-by-3 array:\n",
    "#\n",
    "#     array([[1, 2, 3],\n",
    "#            [4, 5, 6]])\n",
    "#\n",
    "# use hstack and vstack to produce the following array:\n",
    "#\n",
    "#     array([[1, 2, 3, 1, 2, 3],\n",
    "#            [4, 5, 6, 4, 5, 6],\n",
    "#            [1, 2, 3, 1, 2, 3],\n",
    "#            [4, 5, 6, 4, 5, 6]])\n",
    "\n",
    "a = np.arange(1, 7).reshape(2, 3)\n",
    "\n",
    "a"
   ]
  },
  {
   "cell_type": "code",
   "execution_count": 127,
   "id": "88b98019-b758-4c84-b7d1-804936b6dca2",
   "metadata": {},
   "outputs": [
    {
     "data": {
      "text/plain": [
       "array([[1, 2, 3, 1, 2, 3],\n",
       "       [4, 5, 6, 4, 5, 6],\n",
       "       [1, 2, 3, 1, 2, 3],\n",
       "       [4, 5, 6, 4, 5, 6]])"
      ]
     },
     "execution_count": 127,
     "metadata": {},
     "output_type": "execute_result"
    }
   ],
   "source": [
    "a = np.hstack((a, a))\n",
    "\n",
    "a = np.vstack((a, a))\n",
    "\n",
    "a"
   ]
  },
  {
   "cell_type": "markdown",
   "id": "03eaf7a5-676c-4a80-adbf-c9a7cef38a26",
   "metadata": {},
   "source": [
    "7.14 Intro to Data Science: pandas Series and DataFrames"
   ]
  },
  {
   "cell_type": "code",
   "execution_count": 129,
   "id": "ba0b3685-1be1-4624-8f01-bb81a1b0fe21",
   "metadata": {},
   "outputs": [
    {
     "data": {
      "text/plain": [
       "0     87\n",
       "1    100\n",
       "2     94\n",
       "dtype: int64"
      ]
     },
     "execution_count": 129,
     "metadata": {},
     "output_type": "execute_result"
    }
   ],
   "source": [
    "# Creating a series with Default indices\n",
    "\n",
    "import pandas as pd\n",
    "\n",
    "grades = pd.Series([87, 100, 94])\n",
    "\n",
    "grades # to display a series"
   ]
  },
  {
   "cell_type": "code",
   "execution_count": 130,
   "id": "54e9cdf9-f2f4-41c2-8223-f3aecb9bea0f",
   "metadata": {},
   "outputs": [
    {
     "data": {
      "text/plain": [
       "0    98.6\n",
       "1    98.6\n",
       "2    98.6\n",
       "dtype: float64"
      ]
     },
     "execution_count": 130,
     "metadata": {},
     "output_type": "execute_result"
    }
   ],
   "source": [
    "# Creating series with all elements having the same value\n",
    "\n",
    "pd.Series(98.6, range(3))"
   ]
  },
  {
   "cell_type": "code",
   "execution_count": 131,
   "id": "c0c19ae0-c6c6-437a-b79a-c7514dd4433e",
   "metadata": {},
   "outputs": [
    {
     "data": {
      "text/plain": [
       "87"
      ]
     },
     "execution_count": 131,
     "metadata": {},
     "output_type": "execute_result"
    }
   ],
   "source": [
    "#Accessing a Series' elements\n",
    "\n",
    "grades[0]"
   ]
  },
  {
   "cell_type": "code",
   "execution_count": 132,
   "id": "5fa60803-a40a-4ac1-a038-465b2dc5c404",
   "metadata": {},
   "outputs": [
    {
     "data": {
      "text/plain": [
       "3"
      ]
     },
     "execution_count": 132,
     "metadata": {},
     "output_type": "execute_result"
    }
   ],
   "source": [
    "# Producing Descriptive Statistics for a Series\n",
    "\n",
    "grades.count()"
   ]
  },
  {
   "cell_type": "code",
   "execution_count": 133,
   "id": "e6810259-6e67-4adb-ba4c-914f882c52e1",
   "metadata": {},
   "outputs": [
    {
     "data": {
      "text/plain": [
       "93.66666666666667"
      ]
     },
     "execution_count": 133,
     "metadata": {},
     "output_type": "execute_result"
    }
   ],
   "source": [
    "grades.mean()"
   ]
  },
  {
   "cell_type": "code",
   "execution_count": 134,
   "id": "c595ae7a-7c6b-4765-a98c-dbabd1666b4d",
   "metadata": {},
   "outputs": [
    {
     "data": {
      "text/plain": [
       "87"
      ]
     },
     "execution_count": 134,
     "metadata": {},
     "output_type": "execute_result"
    }
   ],
   "source": [
    "grades.min()"
   ]
  },
  {
   "cell_type": "code",
   "execution_count": 135,
   "id": "9ae08c66-72ab-485f-ae5b-174359b7a706",
   "metadata": {},
   "outputs": [
    {
     "data": {
      "text/plain": [
       "100"
      ]
     },
     "execution_count": 135,
     "metadata": {},
     "output_type": "execute_result"
    }
   ],
   "source": [
    "grades.max()"
   ]
  },
  {
   "cell_type": "code",
   "execution_count": 136,
   "id": "fa29fb80-42e8-476b-8291-870ebc0bd36d",
   "metadata": {},
   "outputs": [
    {
     "data": {
      "text/plain": [
       "6.506407098647712"
      ]
     },
     "execution_count": 136,
     "metadata": {},
     "output_type": "execute_result"
    }
   ],
   "source": [
    "grades.std()"
   ]
  },
  {
   "cell_type": "code",
   "execution_count": 137,
   "id": "df8ec50b-9e85-4ffd-8a4b-065ba5a61849",
   "metadata": {},
   "outputs": [
    {
     "data": {
      "text/plain": [
       "count      3.000000\n",
       "mean      93.666667\n",
       "std        6.506407\n",
       "min       87.000000\n",
       "25%       90.500000\n",
       "50%       94.000000\n",
       "75%       97.000000\n",
       "max      100.000000\n",
       "dtype: float64"
      ]
     },
     "execution_count": 137,
     "metadata": {},
     "output_type": "execute_result"
    }
   ],
   "source": [
    "grades.describe()"
   ]
  },
  {
   "cell_type": "code",
   "execution_count": 138,
   "id": "666d3135-5234-4a9a-9c65-973c9d4e77e4",
   "metadata": {},
   "outputs": [
    {
     "data": {
      "text/plain": [
       "Wally     87\n",
       "Eva      100\n",
       "Sam       94\n",
       "dtype: int64"
      ]
     },
     "execution_count": 138,
     "metadata": {},
     "output_type": "execute_result"
    }
   ],
   "source": [
    "# Creating a Series with Custom Indices\n",
    "\n",
    "grades = pd.Series([87, 100, 94], index=['Wally', 'Eva', 'Sam'])\n",
    "\n",
    "grades"
   ]
  },
  {
   "cell_type": "code",
   "execution_count": 139,
   "id": "59a5be0a-3b47-41f1-96ee-3085e9bbd90c",
   "metadata": {},
   "outputs": [
    {
     "data": {
      "text/plain": [
       "Wally     87\n",
       "Eva      100\n",
       "Sam       94\n",
       "dtype: int64"
      ]
     },
     "execution_count": 139,
     "metadata": {},
     "output_type": "execute_result"
    }
   ],
   "source": [
    "# Dictionary Initializers\n",
    "\n",
    "grades = pd.Series({'Wally': 87, 'Eva':100, 'Sam': 94})\n",
    "\n",
    "grades"
   ]
  },
  {
   "cell_type": "code",
   "execution_count": 141,
   "id": "1ef902d8-f327-444f-9e45-566b95f01f55",
   "metadata": {},
   "outputs": [
    {
     "data": {
      "text/plain": [
       "100"
      ]
     },
     "execution_count": 141,
     "metadata": {},
     "output_type": "execute_result"
    }
   ],
   "source": [
    "# Accessing Elements of a Series Via Custom Indices\n",
    "\n",
    "grades['Eva']"
   ]
  },
  {
   "cell_type": "code",
   "execution_count": 142,
   "id": "25a121f1-a123-48ca-b598-cf53d926c201",
   "metadata": {},
   "outputs": [
    {
     "data": {
      "text/plain": [
       "87"
      ]
     },
     "execution_count": 142,
     "metadata": {},
     "output_type": "execute_result"
    }
   ],
   "source": [
    "grades.Wally"
   ]
  },
  {
   "cell_type": "code",
   "execution_count": 143,
   "id": "7b0f4810-79a2-4ba0-8755-05d7379677a1",
   "metadata": {},
   "outputs": [
    {
     "data": {
      "text/plain": [
       "dtype('int64')"
      ]
     },
     "execution_count": 143,
     "metadata": {},
     "output_type": "execute_result"
    }
   ],
   "source": [
    "grades.dtype"
   ]
  },
  {
   "cell_type": "code",
   "execution_count": 144,
   "id": "40841452-ff2e-442d-b4f1-479134c331c8",
   "metadata": {},
   "outputs": [
    {
     "data": {
      "text/plain": [
       "array([ 87, 100,  94], dtype=int64)"
      ]
     },
     "execution_count": 144,
     "metadata": {},
     "output_type": "execute_result"
    }
   ],
   "source": [
    "grades.values"
   ]
  },
  {
   "cell_type": "code",
   "execution_count": 145,
   "id": "2edafd2a-82e3-4e87-ab19-32b3a75482c6",
   "metadata": {},
   "outputs": [
    {
     "data": {
      "text/plain": [
       "0    Hammer\n",
       "1       Saw\n",
       "2    Wrench\n",
       "dtype: object"
      ]
     },
     "execution_count": 145,
     "metadata": {},
     "output_type": "execute_result"
    }
   ],
   "source": [
    "# Creating a Series of Strings\n",
    "\n",
    "hardware = pd.Series(['Hammer', 'Saw', 'Wrench'])\n",
    "\n",
    "hardware"
   ]
  },
  {
   "cell_type": "code",
   "execution_count": 146,
   "id": "ce184926-3912-47c7-9774-9bed5fde871f",
   "metadata": {},
   "outputs": [
    {
     "data": {
      "text/plain": [
       "0     True\n",
       "1     True\n",
       "2    False\n",
       "dtype: bool"
      ]
     },
     "execution_count": 146,
     "metadata": {},
     "output_type": "execute_result"
    }
   ],
   "source": [
    "# string method contains - determine whether the value of each element contains a lowercase 'a'\n",
    "\n",
    "hardware.str.contains('a')"
   ]
  },
  {
   "cell_type": "code",
   "execution_count": 147,
   "id": "9075f4b3-d7f1-4e2b-8187-7fb591f4094d",
   "metadata": {},
   "outputs": [
    {
     "data": {
      "text/plain": [
       "0    HAMMER\n",
       "1       SAW\n",
       "2    WRENCH\n",
       "dtype: object"
      ]
     },
     "execution_count": 147,
     "metadata": {},
     "output_type": "execute_result"
    }
   ],
   "source": [
    "# Produce a new Series containing the uppercase versions of each element in hardware:\n",
    "\n",
    "hardware.str.upper()"
   ]
  },
  {
   "cell_type": "markdown",
   "id": "55d73a7f-1dbb-4aa1-a004-345e2f920e0f",
   "metadata": {},
   "source": [
    "7.14.1 Self Check"
   ]
  },
  {
   "cell_type": "code",
   "execution_count": 149,
   "id": "779c8869-edb9-43ec-a99c-be7436d73012",
   "metadata": {},
   "outputs": [
    {
     "data": {
      "text/plain": [
       "0    86\n",
       "1    83\n",
       "2    82\n",
       "3    65\n",
       "4    82\n",
       "dtype: int32"
      ]
     },
     "execution_count": 149,
     "metadata": {},
     "output_type": "execute_result"
    }
   ],
   "source": [
    "# 1) Use the NumPy's random-number generation to create and array of five random integers that represent summertime\n",
    "# temperatures in the range 60-100, then perform the following tasks:\n",
    "#\n",
    "# a) Convert the array into the Series names temperatures and display it.\n",
    "# b) Determine the lowest, highest, and average temperatures.\n",
    "# c) Produce descriptive statistics for the Series.\n",
    "\n",
    "import numpy as np\n",
    "\n",
    "import pandas as pd\n",
    "\n",
    "temps = np.random.randint(60, 101, 5)\n",
    "\n",
    "temperatures = pd.Series(temps)\n",
    "\n",
    "temperatures"
   ]
  },
  {
   "cell_type": "code",
   "execution_count": 150,
   "id": "57e78c8d-390c-4a21-919a-de40e409387c",
   "metadata": {},
   "outputs": [
    {
     "data": {
      "text/plain": [
       "65"
      ]
     },
     "execution_count": 150,
     "metadata": {},
     "output_type": "execute_result"
    }
   ],
   "source": [
    "temperatures.min()"
   ]
  },
  {
   "cell_type": "code",
   "execution_count": 153,
   "id": "080a70a9-83b7-4e14-8cd1-27ffc401fd5f",
   "metadata": {},
   "outputs": [
    {
     "data": {
      "text/plain": [
       "86"
      ]
     },
     "execution_count": 153,
     "metadata": {},
     "output_type": "execute_result"
    }
   ],
   "source": [
    "temperatures.max()"
   ]
  },
  {
   "cell_type": "code",
   "execution_count": 155,
   "id": "5bdd6847-ac2d-4587-8dcc-5ac7c6036b88",
   "metadata": {},
   "outputs": [
    {
     "data": {
      "text/plain": [
       "79.6"
      ]
     },
     "execution_count": 155,
     "metadata": {},
     "output_type": "execute_result"
    }
   ],
   "source": [
    "temperatures.mean()"
   ]
  },
  {
   "cell_type": "code",
   "execution_count": 156,
   "id": "bf6ff8f2-535a-439b-aa92-8470ac161cf1",
   "metadata": {},
   "outputs": [
    {
     "data": {
      "text/plain": [
       "count     5.000000\n",
       "mean     79.600000\n",
       "std       8.324662\n",
       "min      65.000000\n",
       "25%      82.000000\n",
       "50%      82.000000\n",
       "75%      83.000000\n",
       "max      86.000000\n",
       "dtype: float64"
      ]
     },
     "execution_count": 156,
     "metadata": {},
     "output_type": "execute_result"
    }
   ],
   "source": [
    "temperatures.describe()"
   ]
  },
  {
   "cell_type": "code",
   "execution_count": null,
   "id": "d7bcfef5-57dc-4c65-ae24-4536a57db168",
   "metadata": {},
   "outputs": [],
   "source": []
  }
 ],
 "metadata": {
  "kernelspec": {
   "display_name": "Python 3 (ipykernel)",
   "language": "python",
   "name": "python3"
  },
  "language_info": {
   "codemirror_mode": {
    "name": "ipython",
    "version": 3
   },
   "file_extension": ".py",
   "mimetype": "text/x-python",
   "name": "python",
   "nbconvert_exporter": "python",
   "pygments_lexer": "ipython3",
   "version": "3.9.12"
  }
 },
 "nbformat": 4,
 "nbformat_minor": 5
}
